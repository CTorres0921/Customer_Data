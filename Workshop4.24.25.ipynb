{
 "cells": [
  {
   "cell_type": "markdown",
   "id": "2ef96eb7-afbf-4109-8ac2-cc677730433f",
   "metadata": {},
   "source": [
    "# Data Cleaning\n",
    "First imported the necessary libraries to work with, then ingested the data, and proceeded to clean and prepare for getting the necessary statistical information."
   ]
  },
  {
   "cell_type": "code",
   "execution_count": 2,
   "id": "50f7f8da-5ea4-448e-ad3b-6b390355b1c2",
   "metadata": {},
   "outputs": [],
   "source": [
    "import seaborn as sns\n",
    "import pandas as pd\n",
    "import numpy as np\n",
    "import matplotlib.pyplot as plt\n",
    "from scipy import stats\n",
    "df = pd.read_csv('CustomerData.csv')"
   ]
  },
  {
   "cell_type": "code",
   "execution_count": 3,
   "id": "f95678e9-98bf-4c3d-b898-7eb031f3ad10",
   "metadata": {},
   "outputs": [
    {
     "data": {
      "text/html": [
       "<div>\n",
       "<style scoped>\n",
       "    .dataframe tbody tr th:only-of-type {\n",
       "        vertical-align: middle;\n",
       "    }\n",
       "\n",
       "    .dataframe tbody tr th {\n",
       "        vertical-align: top;\n",
       "    }\n",
       "\n",
       "    .dataframe thead th {\n",
       "        text-align: right;\n",
       "    }\n",
       "</style>\n",
       "<table border=\"1\" class=\"dataframe\">\n",
       "  <thead>\n",
       "    <tr style=\"text-align: right;\">\n",
       "      <th></th>\n",
       "      <th>CustomerID</th>\n",
       "      <th>Age</th>\n",
       "      <th>Gender</th>\n",
       "      <th>ProductQualityRating</th>\n",
       "      <th>StoreCleanlinessRating</th>\n",
       "      <th>StaffFriendlinessRating</th>\n",
       "      <th>OverallSatisfactionRating</th>\n",
       "      <th>PurchaseAmount</th>\n",
       "      <th>CustomerLocation</th>\n",
       "      <th>FrequencyofVisits</th>\n",
       "      <th>ProductCategory</th>\n",
       "      <th>MembershipStatus</th>\n",
       "      <th>CustomerLoyaltyScore</th>\n",
       "    </tr>\n",
       "  </thead>\n",
       "  <tbody>\n",
       "    <tr>\n",
       "      <th>0</th>\n",
       "      <td>1</td>\n",
       "      <td>34</td>\n",
       "      <td>Male</td>\n",
       "      <td>4</td>\n",
       "      <td>5</td>\n",
       "      <td>5</td>\n",
       "      <td>4</td>\n",
       "      <td>120.50</td>\n",
       "      <td>Oregon</td>\n",
       "      <td>Weekly</td>\n",
       "      <td>Electronics</td>\n",
       "      <td>Member</td>\n",
       "      <td>85</td>\n",
       "    </tr>\n",
       "    <tr>\n",
       "      <th>1</th>\n",
       "      <td>2</td>\n",
       "      <td>28</td>\n",
       "      <td>Female</td>\n",
       "      <td>5</td>\n",
       "      <td>4</td>\n",
       "      <td>4</td>\n",
       "      <td>5</td>\n",
       "      <td>155.75</td>\n",
       "      <td>Texas</td>\n",
       "      <td>Monthly</td>\n",
       "      <td>Clothing</td>\n",
       "      <td>Non-Member</td>\n",
       "      <td>70</td>\n",
       "    </tr>\n",
       "    <tr>\n",
       "      <th>2</th>\n",
       "      <td>3</td>\n",
       "      <td>42</td>\n",
       "      <td>Male</td>\n",
       "      <td>3</td>\n",
       "      <td>3</td>\n",
       "      <td>4</td>\n",
       "      <td>3</td>\n",
       "      <td>75.20</td>\n",
       "      <td>Vermont</td>\n",
       "      <td>Rarely</td>\n",
       "      <td>Groceries</td>\n",
       "      <td>Member</td>\n",
       "      <td>92</td>\n",
       "    </tr>\n",
       "    <tr>\n",
       "      <th>3</th>\n",
       "      <td>4</td>\n",
       "      <td>50</td>\n",
       "      <td>Female</td>\n",
       "      <td>4</td>\n",
       "      <td>5</td>\n",
       "      <td>5</td>\n",
       "      <td>5</td>\n",
       "      <td>220.00</td>\n",
       "      <td>Alabama</td>\n",
       "      <td>Weekly</td>\n",
       "      <td>Electronics</td>\n",
       "      <td>Member</td>\n",
       "      <td>78</td>\n",
       "    </tr>\n",
       "    <tr>\n",
       "      <th>4</th>\n",
       "      <td>5</td>\n",
       "      <td>22</td>\n",
       "      <td>Male</td>\n",
       "      <td>2</td>\n",
       "      <td>2</td>\n",
       "      <td>3</td>\n",
       "      <td>2</td>\n",
       "      <td>45.80</td>\n",
       "      <td>Nevada</td>\n",
       "      <td>Daily</td>\n",
       "      <td>Clothing</td>\n",
       "      <td>Non-Member</td>\n",
       "      <td>60</td>\n",
       "    </tr>\n",
       "    <tr>\n",
       "      <th>...</th>\n",
       "      <td>...</td>\n",
       "      <td>...</td>\n",
       "      <td>...</td>\n",
       "      <td>...</td>\n",
       "      <td>...</td>\n",
       "      <td>...</td>\n",
       "      <td>...</td>\n",
       "      <td>...</td>\n",
       "      <td>...</td>\n",
       "      <td>...</td>\n",
       "      <td>...</td>\n",
       "      <td>...</td>\n",
       "      <td>...</td>\n",
       "    </tr>\n",
       "    <tr>\n",
       "      <th>833</th>\n",
       "      <td>834</td>\n",
       "      <td>30</td>\n",
       "      <td>Female</td>\n",
       "      <td>4</td>\n",
       "      <td>4</td>\n",
       "      <td>5</td>\n",
       "      <td>4</td>\n",
       "      <td>110.25</td>\n",
       "      <td>Florida</td>\n",
       "      <td>Monthly</td>\n",
       "      <td>Groceries</td>\n",
       "      <td>Member</td>\n",
       "      <td>82</td>\n",
       "    </tr>\n",
       "    <tr>\n",
       "      <th>834</th>\n",
       "      <td>835</td>\n",
       "      <td>37</td>\n",
       "      <td>Male</td>\n",
       "      <td>4</td>\n",
       "      <td>5</td>\n",
       "      <td>4</td>\n",
       "      <td>4</td>\n",
       "      <td>125.40</td>\n",
       "      <td>California</td>\n",
       "      <td>Weekly</td>\n",
       "      <td>Electronics</td>\n",
       "      <td>Member</td>\n",
       "      <td>78</td>\n",
       "    </tr>\n",
       "    <tr>\n",
       "      <th>835</th>\n",
       "      <td>836</td>\n",
       "      <td>25</td>\n",
       "      <td>Female</td>\n",
       "      <td>3</td>\n",
       "      <td>3</td>\n",
       "      <td>3</td>\n",
       "      <td>3</td>\n",
       "      <td>88.20</td>\n",
       "      <td>New York</td>\n",
       "      <td>Monthly</td>\n",
       "      <td>Clothing</td>\n",
       "      <td>Non-Member</td>\n",
       "      <td>70</td>\n",
       "    </tr>\n",
       "    <tr>\n",
       "      <th>836</th>\n",
       "      <td>837</td>\n",
       "      <td>33</td>\n",
       "      <td>Male</td>\n",
       "      <td>4</td>\n",
       "      <td>4</td>\n",
       "      <td>5</td>\n",
       "      <td>4</td>\n",
       "      <td>120.60</td>\n",
       "      <td>Florida</td>\n",
       "      <td>Weekly</td>\n",
       "      <td>Electronics</td>\n",
       "      <td>Member</td>\n",
       "      <td>88</td>\n",
       "    </tr>\n",
       "    <tr>\n",
       "      <th>837</th>\n",
       "      <td>838</td>\n",
       "      <td>28</td>\n",
       "      <td>Female</td>\n",
       "      <td>3</td>\n",
       "      <td>4</td>\n",
       "      <td>4</td>\n",
       "      <td>3</td>\n",
       "      <td>99.60</td>\n",
       "      <td>New York</td>\n",
       "      <td>Rarely</td>\n",
       "      <td>Clothing</td>\n",
       "      <td>Non-Member</td>\n",
       "      <td>68</td>\n",
       "    </tr>\n",
       "  </tbody>\n",
       "</table>\n",
       "<p>838 rows × 13 columns</p>\n",
       "</div>"
      ],
      "text/plain": [
       "     CustomerID  Age  Gender  ProductQualityRating  StoreCleanlinessRating  \\\n",
       "0             1   34    Male                     4                       5   \n",
       "1             2   28  Female                     5                       4   \n",
       "2             3   42    Male                     3                       3   \n",
       "3             4   50  Female                     4                       5   \n",
       "4             5   22    Male                     2                       2   \n",
       "..          ...  ...     ...                   ...                     ...   \n",
       "833         834   30  Female                     4                       4   \n",
       "834         835   37    Male                     4                       5   \n",
       "835         836   25  Female                     3                       3   \n",
       "836         837   33    Male                     4                       4   \n",
       "837         838   28  Female                     3                       4   \n",
       "\n",
       "     StaffFriendlinessRating  OverallSatisfactionRating  PurchaseAmount  \\\n",
       "0                          5                          4          120.50   \n",
       "1                          4                          5          155.75   \n",
       "2                          4                          3           75.20   \n",
       "3                          5                          5          220.00   \n",
       "4                          3                          2           45.80   \n",
       "..                       ...                        ...             ...   \n",
       "833                        5                          4          110.25   \n",
       "834                        4                          4          125.40   \n",
       "835                        3                          3           88.20   \n",
       "836                        5                          4          120.60   \n",
       "837                        4                          3           99.60   \n",
       "\n",
       "    CustomerLocation FrequencyofVisits ProductCategory MembershipStatus  \\\n",
       "0             Oregon            Weekly     Electronics           Member   \n",
       "1              Texas           Monthly        Clothing       Non-Member   \n",
       "2            Vermont            Rarely       Groceries           Member   \n",
       "3            Alabama            Weekly     Electronics           Member   \n",
       "4             Nevada             Daily        Clothing       Non-Member   \n",
       "..               ...               ...             ...              ...   \n",
       "833          Florida           Monthly       Groceries           Member   \n",
       "834       California            Weekly     Electronics           Member   \n",
       "835         New York           Monthly        Clothing       Non-Member   \n",
       "836          Florida            Weekly     Electronics           Member   \n",
       "837         New York            Rarely        Clothing       Non-Member   \n",
       "\n",
       "     CustomerLoyaltyScore  \n",
       "0                      85  \n",
       "1                      70  \n",
       "2                      92  \n",
       "3                      78  \n",
       "4                      60  \n",
       "..                    ...  \n",
       "833                    82  \n",
       "834                    78  \n",
       "835                    70  \n",
       "836                    88  \n",
       "837                    68  \n",
       "\n",
       "[838 rows x 13 columns]"
      ]
     },
     "execution_count": 3,
     "metadata": {},
     "output_type": "execute_result"
    }
   ],
   "source": [
    "df"
   ]
  },
  {
   "cell_type": "code",
   "execution_count": 4,
   "id": "c8fb2181-3a1f-4671-a48d-00c02310b8a1",
   "metadata": {},
   "outputs": [
    {
     "name": "stdout",
     "output_type": "stream",
     "text": [
      "<class 'pandas.core.frame.DataFrame'>\n",
      "RangeIndex: 838 entries, 0 to 837\n",
      "Data columns (total 13 columns):\n",
      " #   Column                     Non-Null Count  Dtype  \n",
      "---  ------                     --------------  -----  \n",
      " 0   CustomerID                 838 non-null    int64  \n",
      " 1   Age                        838 non-null    int64  \n",
      " 2   Gender                     838 non-null    object \n",
      " 3   ProductQualityRating       838 non-null    int64  \n",
      " 4   StoreCleanlinessRating     838 non-null    int64  \n",
      " 5   StaffFriendlinessRating    838 non-null    int64  \n",
      " 6   OverallSatisfactionRating  838 non-null    int64  \n",
      " 7   PurchaseAmount             835 non-null    float64\n",
      " 8   CustomerLocation           838 non-null    object \n",
      " 9   FrequencyofVisits          838 non-null    object \n",
      " 10  ProductCategory            838 non-null    object \n",
      " 11  MembershipStatus           838 non-null    object \n",
      " 12  CustomerLoyaltyScore       838 non-null    int64  \n",
      "dtypes: float64(1), int64(7), object(5)\n",
      "memory usage: 85.2+ KB\n"
     ]
    }
   ],
   "source": [
    "df.info()"
   ]
  },
  {
   "cell_type": "code",
   "execution_count": 6,
   "id": "d7495100-09e2-4ce0-ab7e-9ca6acb247b1",
   "metadata": {},
   "outputs": [
    {
     "data": {
      "text/plain": [
       "CustomerID                   0\n",
       "Age                          0\n",
       "Gender                       0\n",
       "ProductQualityRating         0\n",
       "StoreCleanlinessRating       0\n",
       "StaffFriendlinessRating      0\n",
       "OverallSatisfactionRating    0\n",
       "PurchaseAmount               3\n",
       "CustomerLocation             0\n",
       "FrequencyofVisits            0\n",
       "ProductCategory              0\n",
       "MembershipStatus             0\n",
       "CustomerLoyaltyScore         0\n",
       "dtype: int64"
      ]
     },
     "execution_count": 6,
     "metadata": {},
     "output_type": "execute_result"
    }
   ],
   "source": [
    "df.isna().sum()"
   ]
  },
  {
   "cell_type": "code",
   "execution_count": 7,
   "id": "90845505-8e19-4fce-91cd-f57feffb2ea4",
   "metadata": {},
   "outputs": [
    {
     "data": {
      "text/html": [
       "<div>\n",
       "<style scoped>\n",
       "    .dataframe tbody tr th:only-of-type {\n",
       "        vertical-align: middle;\n",
       "    }\n",
       "\n",
       "    .dataframe tbody tr th {\n",
       "        vertical-align: top;\n",
       "    }\n",
       "\n",
       "    .dataframe thead th {\n",
       "        text-align: right;\n",
       "    }\n",
       "</style>\n",
       "<table border=\"1\" class=\"dataframe\">\n",
       "  <thead>\n",
       "    <tr style=\"text-align: right;\">\n",
       "      <th></th>\n",
       "      <th>CustomerID</th>\n",
       "      <th>Age</th>\n",
       "      <th>Gender</th>\n",
       "      <th>ProductQualityRating</th>\n",
       "      <th>StoreCleanlinessRating</th>\n",
       "      <th>StaffFriendlinessRating</th>\n",
       "      <th>OverallSatisfactionRating</th>\n",
       "      <th>PurchaseAmount</th>\n",
       "      <th>CustomerLocation</th>\n",
       "      <th>FrequencyofVisits</th>\n",
       "      <th>ProductCategory</th>\n",
       "      <th>MembershipStatus</th>\n",
       "      <th>CustomerLoyaltyScore</th>\n",
       "    </tr>\n",
       "  </thead>\n",
       "  <tbody>\n",
       "    <tr>\n",
       "      <th>0</th>\n",
       "      <td>1</td>\n",
       "      <td>34</td>\n",
       "      <td>Male</td>\n",
       "      <td>4</td>\n",
       "      <td>5</td>\n",
       "      <td>5</td>\n",
       "      <td>4</td>\n",
       "      <td>120.50</td>\n",
       "      <td>Oregon</td>\n",
       "      <td>Weekly</td>\n",
       "      <td>Electronics</td>\n",
       "      <td>Member</td>\n",
       "      <td>85</td>\n",
       "    </tr>\n",
       "    <tr>\n",
       "      <th>1</th>\n",
       "      <td>2</td>\n",
       "      <td>28</td>\n",
       "      <td>Female</td>\n",
       "      <td>5</td>\n",
       "      <td>4</td>\n",
       "      <td>4</td>\n",
       "      <td>5</td>\n",
       "      <td>155.75</td>\n",
       "      <td>Texas</td>\n",
       "      <td>Monthly</td>\n",
       "      <td>Clothing</td>\n",
       "      <td>Non-Member</td>\n",
       "      <td>70</td>\n",
       "    </tr>\n",
       "    <tr>\n",
       "      <th>2</th>\n",
       "      <td>3</td>\n",
       "      <td>42</td>\n",
       "      <td>Male</td>\n",
       "      <td>3</td>\n",
       "      <td>3</td>\n",
       "      <td>4</td>\n",
       "      <td>3</td>\n",
       "      <td>75.20</td>\n",
       "      <td>Vermont</td>\n",
       "      <td>Rarely</td>\n",
       "      <td>Groceries</td>\n",
       "      <td>Member</td>\n",
       "      <td>92</td>\n",
       "    </tr>\n",
       "    <tr>\n",
       "      <th>3</th>\n",
       "      <td>4</td>\n",
       "      <td>50</td>\n",
       "      <td>Female</td>\n",
       "      <td>4</td>\n",
       "      <td>5</td>\n",
       "      <td>5</td>\n",
       "      <td>5</td>\n",
       "      <td>220.00</td>\n",
       "      <td>Alabama</td>\n",
       "      <td>Weekly</td>\n",
       "      <td>Electronics</td>\n",
       "      <td>Member</td>\n",
       "      <td>78</td>\n",
       "    </tr>\n",
       "    <tr>\n",
       "      <th>4</th>\n",
       "      <td>5</td>\n",
       "      <td>22</td>\n",
       "      <td>Male</td>\n",
       "      <td>2</td>\n",
       "      <td>2</td>\n",
       "      <td>3</td>\n",
       "      <td>2</td>\n",
       "      <td>45.80</td>\n",
       "      <td>Nevada</td>\n",
       "      <td>Daily</td>\n",
       "      <td>Clothing</td>\n",
       "      <td>Non-Member</td>\n",
       "      <td>60</td>\n",
       "    </tr>\n",
       "    <tr>\n",
       "      <th>5</th>\n",
       "      <td>6</td>\n",
       "      <td>38</td>\n",
       "      <td>Female</td>\n",
       "      <td>5</td>\n",
       "      <td>4</td>\n",
       "      <td>5</td>\n",
       "      <td>5</td>\n",
       "      <td>198.40</td>\n",
       "      <td>Delaware</td>\n",
       "      <td>Weekly</td>\n",
       "      <td>Electronics</td>\n",
       "      <td>Member</td>\n",
       "      <td>88</td>\n",
       "    </tr>\n",
       "    <tr>\n",
       "      <th>6</th>\n",
       "      <td>7</td>\n",
       "      <td>45</td>\n",
       "      <td>Male</td>\n",
       "      <td>4</td>\n",
       "      <td>5</td>\n",
       "      <td>4</td>\n",
       "      <td>4</td>\n",
       "      <td>150.60</td>\n",
       "      <td>Wisconsin</td>\n",
       "      <td>Monthly</td>\n",
       "      <td>Groceries</td>\n",
       "      <td>Non-Member</td>\n",
       "      <td>75</td>\n",
       "    </tr>\n",
       "    <tr>\n",
       "      <th>7</th>\n",
       "      <td>8</td>\n",
       "      <td>29</td>\n",
       "      <td>Female</td>\n",
       "      <td>3</td>\n",
       "      <td>3</td>\n",
       "      <td>3</td>\n",
       "      <td>3</td>\n",
       "      <td>85.30</td>\n",
       "      <td>Oklahoma</td>\n",
       "      <td>Rarely</td>\n",
       "      <td>Clothing</td>\n",
       "      <td>Member</td>\n",
       "      <td>68</td>\n",
       "    </tr>\n",
       "    <tr>\n",
       "      <th>8</th>\n",
       "      <td>9</td>\n",
       "      <td>31</td>\n",
       "      <td>Male</td>\n",
       "      <td>4</td>\n",
       "      <td>4</td>\n",
       "      <td>5</td>\n",
       "      <td>4</td>\n",
       "      <td>110.25</td>\n",
       "      <td>Kentucky</td>\n",
       "      <td>Weekly</td>\n",
       "      <td>Electronics</td>\n",
       "      <td>Member</td>\n",
       "      <td>90</td>\n",
       "    </tr>\n",
       "    <tr>\n",
       "      <th>9</th>\n",
       "      <td>10</td>\n",
       "      <td>26</td>\n",
       "      <td>Female</td>\n",
       "      <td>3</td>\n",
       "      <td>3</td>\n",
       "      <td>4</td>\n",
       "      <td>3</td>\n",
       "      <td>70.90</td>\n",
       "      <td>Arkansas</td>\n",
       "      <td>Monthly</td>\n",
       "      <td>Groceries</td>\n",
       "      <td>Non-Member</td>\n",
       "      <td>72</td>\n",
       "    </tr>\n",
       "  </tbody>\n",
       "</table>\n",
       "</div>"
      ],
      "text/plain": [
       "   CustomerID  Age  Gender  ProductQualityRating  StoreCleanlinessRating  \\\n",
       "0           1   34    Male                     4                       5   \n",
       "1           2   28  Female                     5                       4   \n",
       "2           3   42    Male                     3                       3   \n",
       "3           4   50  Female                     4                       5   \n",
       "4           5   22    Male                     2                       2   \n",
       "5           6   38  Female                     5                       4   \n",
       "6           7   45    Male                     4                       5   \n",
       "7           8   29  Female                     3                       3   \n",
       "8           9   31    Male                     4                       4   \n",
       "9          10   26  Female                     3                       3   \n",
       "\n",
       "   StaffFriendlinessRating  OverallSatisfactionRating  PurchaseAmount  \\\n",
       "0                        5                          4          120.50   \n",
       "1                        4                          5          155.75   \n",
       "2                        4                          3           75.20   \n",
       "3                        5                          5          220.00   \n",
       "4                        3                          2           45.80   \n",
       "5                        5                          5          198.40   \n",
       "6                        4                          4          150.60   \n",
       "7                        3                          3           85.30   \n",
       "8                        5                          4          110.25   \n",
       "9                        4                          3           70.90   \n",
       "\n",
       "  CustomerLocation FrequencyofVisits ProductCategory MembershipStatus  \\\n",
       "0           Oregon            Weekly     Electronics           Member   \n",
       "1            Texas           Monthly        Clothing       Non-Member   \n",
       "2          Vermont            Rarely       Groceries           Member   \n",
       "3          Alabama            Weekly     Electronics           Member   \n",
       "4           Nevada             Daily        Clothing       Non-Member   \n",
       "5         Delaware            Weekly     Electronics           Member   \n",
       "6        Wisconsin           Monthly       Groceries       Non-Member   \n",
       "7         Oklahoma            Rarely        Clothing           Member   \n",
       "8         Kentucky            Weekly     Electronics           Member   \n",
       "9         Arkansas           Monthly       Groceries       Non-Member   \n",
       "\n",
       "   CustomerLoyaltyScore  \n",
       "0                    85  \n",
       "1                    70  \n",
       "2                    92  \n",
       "3                    78  \n",
       "4                    60  \n",
       "5                    88  \n",
       "6                    75  \n",
       "7                    68  \n",
       "8                    90  \n",
       "9                    72  "
      ]
     },
     "execution_count": 7,
     "metadata": {},
     "output_type": "execute_result"
    }
   ],
   "source": [
    "df.head(10)"
   ]
  },
  {
   "cell_type": "code",
   "execution_count": 9,
   "id": "cd38e26c-853d-4f59-830b-52c2a1362d42",
   "metadata": {},
   "outputs": [
    {
     "data": {
      "text/html": [
       "<div>\n",
       "<style scoped>\n",
       "    .dataframe tbody tr th:only-of-type {\n",
       "        vertical-align: middle;\n",
       "    }\n",
       "\n",
       "    .dataframe tbody tr th {\n",
       "        vertical-align: top;\n",
       "    }\n",
       "\n",
       "    .dataframe thead th {\n",
       "        text-align: right;\n",
       "    }\n",
       "</style>\n",
       "<table border=\"1\" class=\"dataframe\">\n",
       "  <thead>\n",
       "    <tr style=\"text-align: right;\">\n",
       "      <th></th>\n",
       "      <th>CustomerID</th>\n",
       "      <th>Age</th>\n",
       "      <th>ProductQualityRating</th>\n",
       "      <th>StoreCleanlinessRating</th>\n",
       "      <th>StaffFriendlinessRating</th>\n",
       "      <th>OverallSatisfactionRating</th>\n",
       "      <th>PurchaseAmount</th>\n",
       "      <th>CustomerLoyaltyScore</th>\n",
       "    </tr>\n",
       "  </thead>\n",
       "  <tbody>\n",
       "    <tr>\n",
       "      <th>count</th>\n",
       "      <td>838.000000</td>\n",
       "      <td>838.000000</td>\n",
       "      <td>838.000000</td>\n",
       "      <td>838.000000</td>\n",
       "      <td>838.000000</td>\n",
       "      <td>838.000000</td>\n",
       "      <td>835.000000</td>\n",
       "      <td>838.000000</td>\n",
       "    </tr>\n",
       "    <tr>\n",
       "      <th>mean</th>\n",
       "      <td>419.500000</td>\n",
       "      <td>40.585919</td>\n",
       "      <td>3.661098</td>\n",
       "      <td>3.946301</td>\n",
       "      <td>4.189737</td>\n",
       "      <td>3.742243</td>\n",
       "      <td>104.653653</td>\n",
       "      <td>77.599045</td>\n",
       "    </tr>\n",
       "    <tr>\n",
       "      <th>std</th>\n",
       "      <td>242.054057</td>\n",
       "      <td>14.239264</td>\n",
       "      <td>0.929891</td>\n",
       "      <td>0.876198</td>\n",
       "      <td>0.745221</td>\n",
       "      <td>0.955600</td>\n",
       "      <td>72.698678</td>\n",
       "      <td>9.903675</td>\n",
       "    </tr>\n",
       "    <tr>\n",
       "      <th>min</th>\n",
       "      <td>1.000000</td>\n",
       "      <td>18.000000</td>\n",
       "      <td>2.000000</td>\n",
       "      <td>2.000000</td>\n",
       "      <td>3.000000</td>\n",
       "      <td>2.000000</td>\n",
       "      <td>5.990000</td>\n",
       "      <td>60.000000</td>\n",
       "    </tr>\n",
       "    <tr>\n",
       "      <th>25%</th>\n",
       "      <td>210.250000</td>\n",
       "      <td>29.000000</td>\n",
       "      <td>3.000000</td>\n",
       "      <td>3.000000</td>\n",
       "      <td>4.000000</td>\n",
       "      <td>3.000000</td>\n",
       "      <td>48.525000</td>\n",
       "      <td>70.000000</td>\n",
       "    </tr>\n",
       "    <tr>\n",
       "      <th>50%</th>\n",
       "      <td>419.500000</td>\n",
       "      <td>38.000000</td>\n",
       "      <td>4.000000</td>\n",
       "      <td>4.000000</td>\n",
       "      <td>4.000000</td>\n",
       "      <td>4.000000</td>\n",
       "      <td>87.750000</td>\n",
       "      <td>78.000000</td>\n",
       "    </tr>\n",
       "    <tr>\n",
       "      <th>75%</th>\n",
       "      <td>628.750000</td>\n",
       "      <td>50.000000</td>\n",
       "      <td>4.000000</td>\n",
       "      <td>5.000000</td>\n",
       "      <td>5.000000</td>\n",
       "      <td>4.000000</td>\n",
       "      <td>147.000000</td>\n",
       "      <td>88.000000</td>\n",
       "    </tr>\n",
       "    <tr>\n",
       "      <th>max</th>\n",
       "      <td>838.000000</td>\n",
       "      <td>83.000000</td>\n",
       "      <td>5.000000</td>\n",
       "      <td>5.000000</td>\n",
       "      <td>5.000000</td>\n",
       "      <td>5.000000</td>\n",
       "      <td>299.300000</td>\n",
       "      <td>92.000000</td>\n",
       "    </tr>\n",
       "  </tbody>\n",
       "</table>\n",
       "</div>"
      ],
      "text/plain": [
       "       CustomerID         Age  ProductQualityRating  StoreCleanlinessRating  \\\n",
       "count  838.000000  838.000000            838.000000              838.000000   \n",
       "mean   419.500000   40.585919              3.661098                3.946301   \n",
       "std    242.054057   14.239264              0.929891                0.876198   \n",
       "min      1.000000   18.000000              2.000000                2.000000   \n",
       "25%    210.250000   29.000000              3.000000                3.000000   \n",
       "50%    419.500000   38.000000              4.000000                4.000000   \n",
       "75%    628.750000   50.000000              4.000000                5.000000   \n",
       "max    838.000000   83.000000              5.000000                5.000000   \n",
       "\n",
       "       StaffFriendlinessRating  OverallSatisfactionRating  PurchaseAmount  \\\n",
       "count               838.000000                 838.000000      835.000000   \n",
       "mean                  4.189737                   3.742243      104.653653   \n",
       "std                   0.745221                   0.955600       72.698678   \n",
       "min                   3.000000                   2.000000        5.990000   \n",
       "25%                   4.000000                   3.000000       48.525000   \n",
       "50%                   4.000000                   4.000000       87.750000   \n",
       "75%                   5.000000                   4.000000      147.000000   \n",
       "max                   5.000000                   5.000000      299.300000   \n",
       "\n",
       "       CustomerLoyaltyScore  \n",
       "count            838.000000  \n",
       "mean              77.599045  \n",
       "std                9.903675  \n",
       "min               60.000000  \n",
       "25%               70.000000  \n",
       "50%               78.000000  \n",
       "75%               88.000000  \n",
       "max               92.000000  "
      ]
     },
     "execution_count": 9,
     "metadata": {},
     "output_type": "execute_result"
    }
   ],
   "source": [
    "df.describe()"
   ]
  },
  {
   "cell_type": "code",
   "execution_count": 11,
   "id": "e1b6f533-b07d-42ca-bda6-4c96242df476",
   "metadata": {},
   "outputs": [
    {
     "data": {
      "text/plain": [
       "0      False\n",
       "1      False\n",
       "2      False\n",
       "3      False\n",
       "4      False\n",
       "       ...  \n",
       "833    False\n",
       "834    False\n",
       "835    False\n",
       "836    False\n",
       "837    False\n",
       "Length: 838, dtype: bool"
      ]
     },
     "execution_count": 11,
     "metadata": {},
     "output_type": "execute_result"
    }
   ],
   "source": [
    "df.duplicated()"
   ]
  },
  {
   "cell_type": "markdown",
   "id": "e994622f-3c17-43bc-b04a-0cf92ca5c77f",
   "metadata": {},
   "source": [
    "# Mean, Median, & Mode\n",
    "I started getting the mean, median and mode of Age, but we decided to, instead, focus on Overall Satisfaction Rating. "
   ]
  },
  {
   "cell_type": "code",
   "execution_count": 18,
   "id": "1649c594-1af3-4350-9727-a428d6fd6632",
   "metadata": {},
   "outputs": [
    {
     "data": {
      "text/plain": [
       "np.float64(40.585918854415276)"
      ]
     },
     "execution_count": 18,
     "metadata": {},
     "output_type": "execute_result"
    }
   ],
   "source": [
    " df['Age'].mean()"
   ]
  },
  {
   "cell_type": "code",
   "execution_count": 17,
   "id": "5f3e91e6-6f5f-4817-a80b-2ac10c21f601",
   "metadata": {},
   "outputs": [
    {
     "data": {
      "text/plain": [
       "np.float64(38.0)"
      ]
     },
     "execution_count": 17,
     "metadata": {},
     "output_type": "execute_result"
    }
   ],
   "source": [
    "df['Age'].median()"
   ]
  },
  {
   "cell_type": "code",
   "execution_count": 16,
   "id": "64fbf1de-ffa7-4638-867b-ab3bacad20c7",
   "metadata": {},
   "outputs": [
    {
     "data": {
      "text/plain": [
       "0    29\n",
       "Name: Age, dtype: int64"
      ]
     },
     "execution_count": 16,
     "metadata": {},
     "output_type": "execute_result"
    }
   ],
   "source": [
    "df['Age'].mode()"
   ]
  },
  {
   "cell_type": "code",
   "execution_count": 19,
   "id": "01875fe7-ec01-4ab3-a6a3-b3545eea1094",
   "metadata": {},
   "outputs": [
    {
     "data": {
      "text/plain": [
       "np.float64(3.7422434367541766)"
      ]
     },
     "execution_count": 19,
     "metadata": {},
     "output_type": "execute_result"
    }
   ],
   "source": [
    "df['OverallSatisfactionRating'].mean()"
   ]
  },
  {
   "cell_type": "code",
   "execution_count": 20,
   "id": "7120723f-b4df-42f8-85f4-b9c5f625ec1f",
   "metadata": {},
   "outputs": [
    {
     "data": {
      "text/plain": [
       "np.float64(4.0)"
      ]
     },
     "execution_count": 20,
     "metadata": {},
     "output_type": "execute_result"
    }
   ],
   "source": [
    "df['OverallSatisfactionRating'].median()"
   ]
  },
  {
   "cell_type": "code",
   "execution_count": 21,
   "id": "8c5e37e9-ccde-4a38-9d22-a2008fc3cc20",
   "metadata": {},
   "outputs": [
    {
     "data": {
      "text/plain": [
       "0    4\n",
       "Name: OverallSatisfactionRating, dtype: int64"
      ]
     },
     "execution_count": 21,
     "metadata": {},
     "output_type": "execute_result"
    }
   ],
   "source": [
    "df['OverallSatisfactionRating'].mode()"
   ]
  },
  {
   "cell_type": "markdown",
   "id": "5092dee6-0517-4ee9-8f85-1a695e40da9b",
   "metadata": {},
   "source": [
    "# Range"
   ]
  },
  {
   "cell_type": "code",
   "execution_count": 23,
   "id": "5c449804-7627-4c50-b15d-5f13f68c4d31",
   "metadata": {},
   "outputs": [
    {
     "name": "stdout",
     "output_type": "stream",
     "text": [
      "2\n"
     ]
    }
   ],
   "source": [
    "min_rating = np.min(df['OverallSatisfactionRating'])\n",
    "print(min_rating)"
   ]
  },
  {
   "cell_type": "code",
   "execution_count": 24,
   "id": "8f3a97df-ad52-434e-a2e1-301c5876a448",
   "metadata": {},
   "outputs": [
    {
     "name": "stdout",
     "output_type": "stream",
     "text": [
      "5\n"
     ]
    }
   ],
   "source": [
    "max_rating = np.max(df['OverallSatisfactionRating'])\n",
    "print(max_rating)"
   ]
  },
  {
   "cell_type": "code",
   "execution_count": 25,
   "id": "4d681391-0372-460f-b003-850ce1241ef7",
   "metadata": {},
   "outputs": [
    {
     "name": "stdout",
     "output_type": "stream",
     "text": [
      "3\n"
     ]
    }
   ],
   "source": [
    "range_rating = max_rating - min_rating\n",
    "print(range_rating)"
   ]
  },
  {
   "cell_type": "markdown",
   "id": "92ff2b5d-2ab7-432f-a8f4-4d38c3685765",
   "metadata": {},
   "source": [
    "# Variance and Standard Deviation"
   ]
  },
  {
   "cell_type": "code",
   "execution_count": 26,
   "id": "739654bf-6224-49af-adfa-452a17917cd6",
   "metadata": {},
   "outputs": [
    {
     "data": {
      "text/plain": [
       "np.float64(0.9131715440130254)"
      ]
     },
     "execution_count": 26,
     "metadata": {},
     "output_type": "execute_result"
    }
   ],
   "source": [
    " df['OverallSatisfactionRating'].var()"
   ]
  },
  {
   "cell_type": "code",
   "execution_count": 27,
   "id": "d95af1d9-c5ad-4896-83be-cc3ad79585e9",
   "metadata": {},
   "outputs": [
    {
     "data": {
      "text/plain": [
       "np.float64(0.9556000962814023)"
      ]
     },
     "execution_count": 27,
     "metadata": {},
     "output_type": "execute_result"
    }
   ],
   "source": [
    "df['OverallSatisfactionRating'].std()"
   ]
  },
  {
   "cell_type": "markdown",
   "id": "b49cb00b-c293-4a22-bd5f-bcbe1f6d48e4",
   "metadata": {},
   "source": [
    "# IQR, Outliers , Skrewness & Kurtosis"
   ]
  },
  {
   "cell_type": "code",
   "execution_count": 30,
   "id": "b1945c87-9192-4ed8-a400-f6e70759659c",
   "metadata": {},
   "outputs": [],
   "source": [
    "Q3 = np.percentile(df['OverallSatisfactionRating'], 75)\n",
    "Q1 = np.percentile(df['OverallSatisfactionRating'], 25)\n",
    "IQR = Q3 - Q1"
   ]
  },
  {
   "cell_type": "code",
   "execution_count": 31,
   "id": "d7755148-66d3-4b77-be4d-a5cdc9ccc39d",
   "metadata": {},
   "outputs": [
    {
     "data": {
      "text/plain": [
       "np.float64(1.0)"
      ]
     },
     "execution_count": 31,
     "metadata": {},
     "output_type": "execute_result"
    }
   ],
   "source": [
    "IQR"
   ]
  },
  {
   "cell_type": "code",
   "execution_count": 32,
   "id": "b12e1e1a-c87f-47e5-a8f9-f92a1dcb0953",
   "metadata": {
    "scrolled": true
   },
   "outputs": [
    {
     "name": "stdout",
     "output_type": "stream",
     "text": [
      "Skewness -0.2890572585805967\n",
      "Kurtosis -0.8541900515422598\n"
     ]
    }
   ],
   "source": [
    "skewness = df['OverallSatisfactionRating'].skew()\n",
    "kurtosis = df['OverallSatisfactionRating'].kurtosis()\n",
    "print('Skewness', skewness)\n",
    "print('Kurtosis', kurtosis)"
   ]
  },
  {
   "cell_type": "code",
   "execution_count": 33,
   "id": "80e6acdf-8756-4879-b0c5-83f61a2378ba",
   "metadata": {
    "scrolled": true
   },
   "outputs": [
    {
     "data": {
      "text/plain": [
       "np.int64(0)"
      ]
     },
     "execution_count": 33,
     "metadata": {},
     "output_type": "execute_result"
    }
   ],
   "source": [
    "#Outliers\n",
    "def find_outliers_iqr(series, threshold =1.5):\n",
    "    Q1 = series.quantile(0.25)\n",
    "    Q3 = series.quantile(0.75)\n",
    "    IQR = Q3 - Q1\n",
    "    lower_bound = Q1 - threshold * IQR\n",
    "    upper_bound = Q3 + threshold * IQR\n",
    "    return(series < lower_bound) | (series > upper_bound)\n",
    "\n",
    "find_outliers_iqr(df['OverallSatisfactionRating']).sum()    "
   ]
  },
  {
   "cell_type": "markdown",
   "id": "1ef3172e-afbe-4930-ba39-e2f38285bcc6",
   "metadata": {},
   "source": [
    "# Visualizations"
   ]
  },
  {
   "cell_type": "markdown",
   "id": "eb141346-7c35-41a0-a3e1-4ee39fb3d5a5",
   "metadata": {},
   "source": [
    "The regression plot reveals a clear, positive linear relationship between loyalty score and overall rating: as customer's loyalty scores increase, so do their ratings. "
   ]
  },
  {
   "cell_type": "code",
   "execution_count": 52,
   "id": "c8c25d64-25ee-4ecb-b49f-587d7bf00dd0",
   "metadata": {
    "scrolled": true
   },
   "outputs": [
    {
     "data": {
      "text/plain": [
       "Text(0.5, 1.0, 'Customer Satisfaction vs Loyalty Score')"
      ]
     },
     "execution_count": 52,
     "metadata": {},
     "output_type": "execute_result"
    },
    {
     "data": {
      "image/png": "[encoded data removed]",
      "text/plain": [
       "<Figure size 640x480 with 1 Axes>"
      ]
     },
     "metadata": {},
     "output_type": "display_data"
    }
   ],
   "source": [
    "sns.regplot(df, x='OverallSatisfactionRating', y='CustomerLoyaltyScore')\n",
    "plt.title('Customer Satisfaction vs Loyalty Score')"
   ]
  },
  {
   "cell_type": "markdown",
   "id": "ec5565e6-70d9-4ebb-8ca2-622bc08b3a4e",
   "metadata": {},
   "source": [
    "The box plot of the rating distribution shows a minimum value of 2 and a maximum value of 5. Because no points fall beyond 1.5*IQR from the quartiles, there are no outliers marked separately. Thus the complete span of the data, from lowest to highest rating is captured by the whiskers at 2(minimum) and 5(maximum). "
   ]
  },
  {
   "cell_type": "code",
   "execution_count": 54,
   "id": "830d3762-a824-4427-8cf0-1f79f0e58056",
   "metadata": {
    "scrolled": true
   },
   "outputs": [
    {
     "data": {
      "text/plain": [
       "Text(0.5, 1.0, 'Distribution Rating')"
      ]
     },
     "execution_count": 54,
     "metadata": {},
     "output_type": "execute_result"
    },
    {
     "data": {
      "image/png": "[encoded data removed]",
      "text/plain": [
       "<Figure size 640x480 with 1 Axes>"
      ]
     },
     "metadata": {},
     "output_type": "display_data"
    }
   ],
   "source": [
    "sns.boxplot(df, x='OverallSatisfactionRating')\n",
    "plt.title('Distribution Rating')"
   ]
  },
  {
   "cell_type": "markdown",
   "id": "3b92beef-cd32-4001-b5a4-f03e999afca2",
   "metadata": {},
   "source": [
    "The histogram of satisfaction ratings reveals that most customers scores fall between 4.0 and 4.2. A concentration around 4.0-4.2 suggests consistently high satisfaction, though the exact spread (width of the peak)shows how tight that consensus is. If you see the bars toward lower ratings, it may point to a small group of dissasitified customers worth investigating; similarly, a bar above 4.2 shows truly exceptional feedback. "
   ]
  },
  {
   "cell_type": "code",
   "execution_count": 55,
   "id": "15c42bae-d92b-4236-9431-8f554a4fbeea",
   "metadata": {
    "scrolled": true
   },
   "outputs": [
    {
     "data": {
      "text/plain": [
       "Text(0.5, 1.0, 'Satisfaction Rating')"
      ]
     },
     "execution_count": 55,
     "metadata": {},
     "output_type": "execute_result"
    },
    {
     "data": {
      "image/png": "[encoded data removed]",
      "text/plain": [
       "<Figure size 640x480 with 1 Axes>"
      ]
     },
     "metadata": {},
     "output_type": "display_data"
    }
   ],
   "source": [
    "sns.histplot(df, x='OverallSatisfactionRating')\n",
    "plt.title('Satisfaction Rating')"
   ]
  },
  {
   "cell_type": "markdown",
   "id": "fe110749-8081-433a-a914-78298f986976",
   "metadata": {},
   "source": [
    "The bar plot displays average customer satisfaction scores for different purchase, frequency groups, and it clearly shows that as the number of purchases increases, the average satisfaction rating rises. This patter suggests loyalty and repeat business correlate with better experiences or perceptions of value. It may be worthwhile to investigate what drives high frequency buyers' satisfaction, such as special perks or familiarity with the process, and consider how to extend those benefits to less frequent buyers. "
   ]
  },
  {
   "cell_type": "code",
   "execution_count": 56,
   "id": "a757ac6e-4892-484c-8a60-bd82517509a0",
   "metadata": {},
   "outputs": [
    {
     "data": {
      "text/plain": [
       "Text(0.5, 1.0, 'Customer Satisfaction vs Purchases')"
      ]
     },
     "execution_count": 56,
     "metadata": {},
     "output_type": "execute_result"
    },
    {
     "data": {
      "image/png": "[encoded data removed]",
      "text/plain": [
       "<Figure size 640x480 with 1 Axes>"
      ]
     },
     "metadata": {},
     "output_type": "display_data"
    }
   ],
   "source": [
    "sns.barplot(df, x='OverallSatisfactionRating', y='PurchaseAmount')\n",
    "plt.title('Customer Satisfaction vs Purchases')"
   ]
  },
  {
   "cell_type": "markdown",
   "id": "007daee2-e973-451e-afad-fe739d60a11d",
   "metadata": {},
   "source": [
    "# T-Test"
   ]
  },
  {
   "cell_type": "code",
   "execution_count": null,
   "id": "0d9a9938-3d65-44ac-bbd8-f495e75aa079",
   "metadata": {},
   "outputs": [],
   "source": [
    "Ho OSR = 4.5\n",
    "Ha OSR != 4.5"
   ]
  },
  {
   "cell_type": "code",
   "execution_count": 37,
   "id": "a31dcf37-63fc-453c-a09a-5f935f1c8833",
   "metadata": {},
   "outputs": [],
   "source": [
    "n = df['OverallSatisfactionRating'].count()\n",
    "degrees_of_freedom = n - 1\n",
    "x_bar = df['OverallSatisfactionRating'].mean()\n",
    "mu = 4.5\n",
    "std = df['OverallSatisfactionRating'].std(ddof=1)\n",
    "root_n = np.sqrt(n)\n",
    "t = (x_bar-mu)/(std/root_n)"
   ]
  },
  {
   "cell_type": "code",
   "execution_count": 38,
   "id": "5f5d705c-59b0-42d0-8b76-c8ffb36c0824",
   "metadata": {},
   "outputs": [
    {
     "data": {
      "text/plain": [
       "np.int64(838)"
      ]
     },
     "execution_count": 38,
     "metadata": {},
     "output_type": "execute_result"
    }
   ],
   "source": [
    "n"
   ]
  },
  {
   "cell_type": "code",
   "execution_count": 39,
   "id": "a216c94e-78b4-4b44-9aeb-d500a7658d39",
   "metadata": {},
   "outputs": [
    {
     "data": {
      "text/plain": [
       "np.float64(3.7422434367541766)"
      ]
     },
     "execution_count": 39,
     "metadata": {},
     "output_type": "execute_result"
    }
   ],
   "source": [
    "x_bar"
   ]
  },
  {
   "cell_type": "code",
   "execution_count": 40,
   "id": "5e9c3fb4-d248-4586-9e5d-63a8aa0a0eef",
   "metadata": {},
   "outputs": [
    {
     "data": {
      "text/plain": [
       "np.float64(0.9556000962814023)"
      ]
     },
     "execution_count": 40,
     "metadata": {},
     "output_type": "execute_result"
    }
   ],
   "source": [
    "std"
   ]
  },
  {
   "cell_type": "code",
   "execution_count": 41,
   "id": "1c86ec7c-c0d9-4677-80fb-8e4f43204b11",
   "metadata": {},
   "outputs": [
    {
     "data": {
      "text/plain": [
       "np.float64(28.948229652260256)"
      ]
     },
     "execution_count": 41,
     "metadata": {},
     "output_type": "execute_result"
    }
   ],
   "source": [
    "root_n"
   ]
  },
  {
   "cell_type": "code",
   "execution_count": 42,
   "id": "d1b8ea20-fb06-4514-ba14-763ece104e92",
   "metadata": {},
   "outputs": [
    {
     "data": {
      "text/plain": [
       "np.float64(-22.954906658870833)"
      ]
     },
     "execution_count": 42,
     "metadata": {},
     "output_type": "execute_result"
    }
   ],
   "source": [
    "t"
   ]
  },
  {
   "cell_type": "code",
   "execution_count": 43,
   "id": "c26ae8bb-089a-4fa7-b494-e3e93f680ba4",
   "metadata": {},
   "outputs": [],
   "source": [
    "t_stat, p_two_sided = stats.ttest_1samp(df['OverallSatisfactionRating'], popmean=mu)"
   ]
  },
  {
   "cell_type": "code",
   "execution_count": 44,
   "id": "ecf5524e-ac24-4186-9722-a8025d17b86e",
   "metadata": {},
   "outputs": [
    {
     "data": {
      "text/plain": [
       "np.float64(-22.954906658870833)"
      ]
     },
     "execution_count": 44,
     "metadata": {},
     "output_type": "execute_result"
    }
   ],
   "source": [
    "t_stat"
   ]
  },
  {
   "cell_type": "code",
   "execution_count": 45,
   "id": "acd0def3-37e9-4dfa-81bd-930bb63a94eb",
   "metadata": {},
   "outputs": [
    {
     "data": {
      "text/plain": [
       "np.float64(7.880766538185801e-91)"
      ]
     },
     "execution_count": 45,
     "metadata": {},
     "output_type": "execute_result"
    }
   ],
   "source": [
    "p_two_sided"
   ]
  },
  {
   "cell_type": "markdown",
   "id": "bf624fbb-e552-4086-bf0d-75175629e78a",
   "metadata": {},
   "source": [
    "# Confidence Interval"
   ]
  },
  {
   "cell_type": "code",
   "execution_count": 6,
   "id": "eebeb211-6627-4298-ac69-03d7ca0cdcbc",
   "metadata": {},
   "outputs": [],
   "source": [
    "#Sample Stats\n",
    "mean = df['OverallSatisfactionRating'].mean()\n",
    "std = df['OverallSatisfactionRating'].std(ddof=1)\n",
    "n = len(df['OverallSatisfactionRating'])"
   ]
  },
  {
   "cell_type": "code",
   "execution_count": 7,
   "id": "2905c547-c30d-434b-a5ca-2ac5b3e60914",
   "metadata": {},
   "outputs": [
    {
     "name": "stdout",
     "output_type": "stream",
     "text": [
      "0.033010657569064496\n"
     ]
    }
   ],
   "source": [
    "# Standard Error \n",
    "se = std/np.sqrt(n)\n",
    "print(se)"
   ]
  },
  {
   "cell_type": "code",
   "execution_count": 8,
   "id": "7244c5e8-7e5b-4afb-9dfa-bef62dc66801",
   "metadata": {},
   "outputs": [
    {
     "name": "stdout",
     "output_type": "stream",
     "text": [
      "-1.646676168563442\n"
     ]
    }
   ],
   "source": [
    "# Confidence Level = 95%\n",
    "alpha = 0.05\n",
    "d_f = n - 1\n",
    "crit_t = stats.t.ppf(alpha,d_f)\n",
    "print(crit_t)"
   ]
  },
  {
   "cell_type": "code",
   "execution_count": 9,
   "id": "77a12c1e-6a97-4921-b176-96896730633d",
   "metadata": {},
   "outputs": [
    {
     "name": "stdout",
     "output_type": "stream",
     "text": [
      "-0.054357863127586906\n"
     ]
    }
   ],
   "source": [
    "# Margin Of Error\n",
    "moe = crit_t * se\n",
    "print(moe)"
   ]
  },
  {
   "cell_type": "code",
   "execution_count": 10,
   "id": "85fed25f-04f6-482b-904a-3ec94d34d9aa",
   "metadata": {},
   "outputs": [
    {
     "name": "stdout",
     "output_type": "stream",
     "text": [
      "Confidenec Interval:  3.7966012998817633 3.68788557362659\n"
     ]
    }
   ],
   "source": [
    "# Confidence Interval\n",
    "lower_bound = mean - moe\n",
    "upper_bound = mean + moe\n",
    "print('Confidenec Interval: ', lower_bound, upper_bound)"
   ]
  },
  {
   "cell_type": "code",
   "execution_count": 11,
   "id": "a30c9b59-7d12-461f-9645-2a3a5581f743",
   "metadata": {},
   "outputs": [
    {
     "name": "stdout",
     "output_type": "stream",
     "text": [
      "3.7422434367541766\n"
     ]
    }
   ],
   "source": [
    "print(mean)"
   ]
  },
  {
   "cell_type": "markdown",
   "id": "9ac388e8-e7bf-446f-be4b-115a804c6722",
   "metadata": {},
   "source": [
    "# Conclusion\n",
    "Because p_two_sided is far smaller than alpha, we know the likelihood that the true popultion mean is 4.5 is VERY unlikely, thus we can safely reject the null hypothesis that mu = 4.5 Overall Satisfaction Rating. \n",
    "- We are 95% sure that the Overall Satissfaction Rating is between 3.69 and 3.80."
   ]
  }
 ],
 "metadata": {
  "kernelspec": {
   "display_name": "Python 3 (ipykernel)",
   "language": "python",
   "name": "python3"
  },
  "language_info": {
   "codemirror_mode": {
    "name": "ipython",
    "version": 3
   },
   "file_extension": ".py",
   "mimetype": "text/x-python",
   "name": "python",
   "nbconvert_exporter": "python",
   "pygments_lexer": "ipython3",
   "version": "3.13.2"
  }
 },
 "nbformat": 4,
 "nbformat_minor": 5
}
